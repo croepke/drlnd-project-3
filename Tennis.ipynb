{
 "cells": [
  {
   "cell_type": "markdown",
   "metadata": {},
   "source": [
    "# Collaboration and Competition\n",
    "\n",
    "---\n",
    "\n",
    "In this notebook, you will learn how to use the Unity ML-Agents environment for the third project of the [Deep Reinforcement Learning Nanodegree](https://www.udacity.com/course/deep-reinforcement-learning-nanodegree--nd893) program.\n",
    "\n",
    "### 1. Start the Environment\n",
    "\n",
    "We begin by importing the necessary packages.  If the code cell below returns an error, please revisit the project instructions to double-check that you have installed [Unity ML-Agents](https://github.com/Unity-Technologies/ml-agents/blob/master/docs/Installation.md) and [NumPy](http://www.numpy.org/)."
   ]
  },
  {
   "cell_type": "code",
   "execution_count": 1,
   "metadata": {},
   "outputs": [
    {
     "name": "stdout",
     "output_type": "stream",
     "text": [
      "\u001b[31mtensorflow 1.7.1 has requirement numpy>=1.13.3, but you'll have numpy 1.12.1 which is incompatible.\u001b[0m\r\n",
      "\u001b[31mipython 6.5.0 has requirement prompt-toolkit<2.0.0,>=1.0.15, but you'll have prompt-toolkit 2.0.9 which is incompatible.\u001b[0m\r\n"
     ]
    }
   ],
   "source": [
    "!pip -q install ./python"
   ]
  },
  {
   "cell_type": "code",
   "execution_count": 2,
   "metadata": {},
   "outputs": [],
   "source": [
    "import torch\n",
    "import numpy as np\n",
    "from collections import deque\n",
    "from unityagents import UnityEnvironment\n",
    "from ddpg_agent import Agent\n",
    "import matplotlib.pyplot as plt\n",
    "\n",
    "%matplotlib inline"
   ]
  },
  {
   "cell_type": "markdown",
   "metadata": {},
   "source": [
    "Next, we will start the environment!  **_Before running the code cell below_**, change the `file_name` parameter to match the location of the Unity environment that you downloaded.\n",
    "\n",
    "- **Mac**: `\"path/to/Tennis.app\"`\n",
    "- **Windows** (x86): `\"path/to/Tennis_Windows_x86/Tennis.exe\"`\n",
    "- **Windows** (x86_64): `\"path/to/Tennis_Windows_x86_64/Tennis.exe\"`\n",
    "- **Linux** (x86): `\"path/to/Tennis_Linux/Tennis.x86\"`\n",
    "- **Linux** (x86_64): `\"path/to/Tennis_Linux/Tennis.x86_64\"`\n",
    "- **Linux** (x86, headless): `\"path/to/Tennis_Linux_NoVis/Tennis.x86\"`\n",
    "- **Linux** (x86_64, headless): `\"path/to/Tennis_Linux_NoVis/Tennis.x86_64\"`\n",
    "\n",
    "For instance, if you are using a Mac, then you downloaded `Tennis.app`.  If this file is in the same folder as the notebook, then the line below should appear as follows:\n",
    "```\n",
    "env = UnityEnvironment(file_name=\"Tennis.app\")\n",
    "```"
   ]
  },
  {
   "cell_type": "code",
   "execution_count": 3,
   "metadata": {},
   "outputs": [
    {
     "name": "stderr",
     "output_type": "stream",
     "text": [
      "INFO:unityagents:\n",
      "'Academy' started successfully!\n",
      "Unity Academy name: Academy\n",
      "        Number of Brains: 1\n",
      "        Number of External Brains : 1\n",
      "        Lesson number : 0\n",
      "        Reset Parameters :\n",
      "\t\t\n",
      "Unity brain name: TennisBrain\n",
      "        Number of Visual Observations (per agent): 0\n",
      "        Vector Observation space type: continuous\n",
      "        Vector Observation space size (per agent): 8\n",
      "        Number of stacked Vector Observation: 3\n",
      "        Vector Action space type: continuous\n",
      "        Vector Action space size (per agent): 2\n",
      "        Vector Action descriptions: , \n"
     ]
    }
   ],
   "source": [
    "env = UnityEnvironment(file_name=\"/data/Tennis_Linux_NoVis/Tennis\")"
   ]
  },
  {
   "cell_type": "markdown",
   "metadata": {},
   "source": [
    "Environments contain **_brains_** which are responsible for deciding the actions of their associated agents. Here we check for the first brain available, and set it as the default brain we will be controlling from Python."
   ]
  },
  {
   "cell_type": "code",
   "execution_count": 4,
   "metadata": {},
   "outputs": [],
   "source": [
    "# get the default brain\n",
    "brain_name = env.brain_names[0]\n",
    "brain = env.brains[brain_name]"
   ]
  },
  {
   "cell_type": "code",
   "execution_count": 5,
   "metadata": {},
   "outputs": [],
   "source": [
    "agent = Agent(state_size=24, action_size=2, num_agents=1, random_seed=7)"
   ]
  },
  {
   "cell_type": "markdown",
   "metadata": {},
   "source": [
    "### 2. Examine the State and Action Spaces\n",
    "\n",
    "In this environment, two agents control rackets to bounce a ball over a net. If an agent hits the ball over the net, it receives a reward of +0.1.  If an agent lets a ball hit the ground or hits the ball out of bounds, it receives a reward of -0.01.  Thus, the goal of each agent is to keep the ball in play.\n",
    "\n",
    "The observation space consists of 8 variables corresponding to the position and velocity of the ball and racket. Two continuous actions are available, corresponding to movement toward (or away from) the net, and jumping. \n",
    "\n",
    "Run the code cell below to print some information about the environment."
   ]
  },
  {
   "cell_type": "code",
   "execution_count": 6,
   "metadata": {},
   "outputs": [
    {
     "name": "stdout",
     "output_type": "stream",
     "text": [
      "Number of agents: 2\n",
      "Size of each action: 2\n",
      "There are 2 agents. Each observes a state with length: 24\n",
      "The state for the first agent looks like: [ 0.          0.          0.          0.          0.          0.          0.\n",
      "  0.          0.          0.          0.          0.          0.          0.\n",
      "  0.          0.         -6.65278625 -1.5        -0.          0.\n",
      "  6.83172083  6.         -0.          0.        ]\n"
     ]
    }
   ],
   "source": [
    "# reset the environment\n",
    "env_info = env.reset(train_mode=True)[brain_name]\n",
    "\n",
    "# number of agents \n",
    "num_agents = len(env_info.agents)\n",
    "print('Number of agents:', num_agents)\n",
    "\n",
    "# size of each action\n",
    "action_size = brain.vector_action_space_size\n",
    "print('Size of each action:', action_size)\n",
    "\n",
    "# examine the state space \n",
    "states = env_info.vector_observations\n",
    "state_size = states.shape[1]\n",
    "print('There are {} agents. Each observes a state with length: {}'.format(states.shape[0], state_size))\n",
    "print('The state for the first agent looks like:', states[0])"
   ]
  },
  {
   "cell_type": "markdown",
   "metadata": {},
   "source": [
    "### 3. Take Random Actions in the Environment\n",
    "\n",
    "In the next code cell, you will learn how to use the Python API to control the agents and receive feedback from the environment.\n",
    "\n",
    "Once this cell is executed, you will watch the agents' performance, if they select actions at random with each time step.  A window should pop up that allows you to observe the agents.\n",
    "\n",
    "Of course, as part of the project, you'll have to change the code so that the agents are able to use their experiences to gradually choose better actions when interacting with the environment!"
   ]
  },
  {
   "cell_type": "markdown",
   "metadata": {},
   "source": [
    "When finished, you can close the environment."
   ]
  },
  {
   "cell_type": "markdown",
   "metadata": {},
   "source": [
    "### 4. It's Your Turn!\n",
    "\n",
    "Now it's your turn to train your own agent to solve the environment!  When training the environment, set `train_mode=True`, so that the line for resetting the environment looks like the following:\n",
    "```python\n",
    "env_info = env.reset(train_mode=True)[brain_name]\n",
    "```"
   ]
  },
  {
   "cell_type": "code",
   "execution_count": 7,
   "metadata": {},
   "outputs": [
    {
     "name": "stdout",
     "output_type": "stream",
     "text": [
      "Episode 5\tTotal Average Score: 0.04\tMean: 0.05\tMin: 0.00\tMax: 0.09\tDuration: 0.10\n",
      "Episode 10\tTotal Average Score: 0.02\tMean: -0.00\tMin: -0.01\tMax: 0.00\tDuration: 0.04\n",
      "Episode 15\tTotal Average Score: 0.01\tMean: -0.00\tMin: -0.01\tMax: 0.00\tDuration: 0.49\n",
      "Episode 20\tTotal Average Score: 0.01\tMean: -0.00\tMin: -0.01\tMax: 0.00\tDuration: 0.60\n",
      "Episode 25\tTotal Average Score: 0.01\tMean: -0.00\tMin: -0.01\tMax: 0.00\tDuration: 0.60\n",
      "Episode 30\tTotal Average Score: 0.01\tMean: -0.00\tMin: -0.01\tMax: 0.00\tDuration: 0.60\n",
      "Episode 35\tTotal Average Score: 0.01\tMean: -0.00\tMin: -0.01\tMax: 0.00\tDuration: 0.62\n",
      "Episode 40\tTotal Average Score: 0.01\tMean: 0.05\tMin: 0.00\tMax: 0.09\tDuration: 1.21\n",
      "Episode 45\tTotal Average Score: 0.01\tMean: 0.05\tMin: 0.00\tMax: 0.09\tDuration: 1.42\n",
      "Episode 50\tTotal Average Score: 0.01\tMean: -0.00\tMin: -0.01\tMax: 0.00\tDuration: 1.02\n",
      "Episode 55\tTotal Average Score: 0.01\tMean: -0.00\tMin: -0.01\tMax: 0.00\tDuration: 0.61\n",
      "Episode 60\tTotal Average Score: 0.01\tMean: -0.00\tMin: -0.01\tMax: 0.00\tDuration: 0.62\n",
      "Episode 65\tTotal Average Score: 0.02\tMean: 0.05\tMin: -0.01\tMax: 0.10\tDuration: 1.41\n",
      "Episode 70\tTotal Average Score: 0.02\tMean: -0.00\tMin: -0.01\tMax: 0.00\tDuration: 0.81\n",
      "Episode 75\tTotal Average Score: 0.02\tMean: -0.00\tMin: -0.01\tMax: 0.00\tDuration: 0.61\n",
      "Episode 80\tTotal Average Score: 0.02\tMean: -0.00\tMin: -0.01\tMax: 0.00\tDuration: 0.61\n",
      "Episode 85\tTotal Average Score: 0.02\tMean: -0.00\tMin: -0.01\tMax: 0.00\tDuration: 0.61\n",
      "Episode 90\tTotal Average Score: 0.02\tMean: -0.00\tMin: -0.01\tMax: 0.00\tDuration: 0.60\n",
      "Episode 95\tTotal Average Score: 0.03\tMean: 0.05\tMin: -0.01\tMax: 0.10\tDuration: 1.42\n",
      "Episode 100\tTotal Average Score: 0.03\tMean: 0.05\tMin: -0.01\tMax: 0.10\tDuration: 1.46\n",
      "Episode 105\tTotal Average Score: 0.03\tMean: 0.10\tMin: 0.09\tMax: 0.10\tDuration: 2.26\n",
      "Episode 110\tTotal Average Score: 0.04\tMean: 0.05\tMin: -0.01\tMax: 0.10\tDuration: 1.64\n",
      "Episode 115\tTotal Average Score: 0.04\tMean: 0.05\tMin: -0.01\tMax: 0.10\tDuration: 1.44\n",
      "Episode 120\tTotal Average Score: 0.04\tMean: 0.04\tMin: -0.02\tMax: 0.10\tDuration: 1.44\n",
      "Episode 125\tTotal Average Score: 0.05\tMean: 0.05\tMin: -0.01\tMax: 0.10\tDuration: 1.87\n",
      "Episode 130\tTotal Average Score: 0.05\tMean: 0.05\tMin: -0.01\tMax: 0.10\tDuration: 1.46\n",
      "Episode 135\tTotal Average Score: 0.06\tMean: 0.10\tMin: 0.09\tMax: 0.10\tDuration: 2.33\n",
      "Episode 140\tTotal Average Score: 0.06\tMean: 0.05\tMin: -0.01\tMax: 0.10\tDuration: 1.44\n",
      "Episode 145\tTotal Average Score: 0.06\tMean: 0.05\tMin: 0.00\tMax: 0.09\tDuration: 1.43\n",
      "Episode 150\tTotal Average Score: 0.07\tMean: 0.10\tMin: 0.09\tMax: 0.10\tDuration: 2.31\n",
      "Episode 155\tTotal Average Score: 0.07\tMean: 0.10\tMin: 0.09\tMax: 0.10\tDuration: 2.12\n",
      "Episode 160\tTotal Average Score: 0.08\tMean: -0.00\tMin: -0.01\tMax: 0.00\tDuration: 0.64\n",
      "Episode 165\tTotal Average Score: 0.08\tMean: 0.05\tMin: 0.00\tMax: 0.09\tDuration: 1.45\n",
      "Episode 170\tTotal Average Score: 0.08\tMean: 0.30\tMin: 0.29\tMax: 0.30\tDuration: 5.88\n",
      "Episode 175\tTotal Average Score: 0.09\tMean: 0.20\tMin: 0.19\tMax: 0.20\tDuration: 3.96\n",
      "Episode 180\tTotal Average Score: 0.10\tMean: 0.15\tMin: 0.09\tMax: 0.20\tDuration: 3.82\n",
      "Episode 185\tTotal Average Score: 0.10\tMean: 0.15\tMin: 0.09\tMax: 0.20\tDuration: 3.15\n",
      "Episode 190\tTotal Average Score: 0.11\tMean: 0.45\tMin: 0.39\tMax: 0.50\tDuration: 8.61\n",
      "Episode 195\tTotal Average Score: 0.12\tMean: 0.85\tMin: 0.79\tMax: 0.90\tDuration: 14.79\n",
      "Episode 200\tTotal Average Score: 0.14\tMean: 0.05\tMin: -0.01\tMax: 0.10\tDuration: 1.48\n",
      "Episode 205\tTotal Average Score: 0.14\tMean: 0.15\tMin: 0.10\tMax: 0.19\tDuration: 2.98\n",
      "Episode 210\tTotal Average Score: 0.15\tMean: 0.10\tMin: 0.09\tMax: 0.10\tDuration: 2.33\n",
      "Episode 215\tTotal Average Score: 0.17\tMean: 0.25\tMin: 0.19\tMax: 0.30\tDuration: 4.69\n",
      "Episode 220\tTotal Average Score: 0.21\tMean: 1.15\tMin: 1.09\tMax: 1.20\tDuration: 19.31\n",
      "Episode 225\tTotal Average Score: 0.24\tMean: 0.60\tMin: 0.59\tMax: 0.60\tDuration: 10.83\n",
      "Episode 230\tTotal Average Score: 0.25\tMean: 0.85\tMin: 0.79\tMax: 0.90\tDuration: 15.58\n",
      "Episode 235\tTotal Average Score: 0.30\tMean: 2.55\tMin: 2.50\tMax: 2.60\tDuration: 42.77\n",
      "Episode 240\tTotal Average Score: 0.30\tMean: 0.05\tMin: -0.01\tMax: 0.10\tDuration: 1.47\n",
      "Episode 245\tTotal Average Score: 0.32\tMean: 0.90\tMin: 0.89\tMax: 0.90\tDuration: 15.92\n",
      "Episode 250\tTotal Average Score: 0.37\tMean: 2.55\tMin: 2.50\tMax: 2.60\tDuration: 43.48\n",
      "Episode 255\tTotal Average Score: 0.40\tMean: 1.40\tMin: 1.39\tMax: 1.40\tDuration: 24.31\n",
      "Episode 260\tTotal Average Score: 0.41\tMean: 0.65\tMin: 0.59\tMax: 0.70\tDuration: 12.11\n",
      "Episode 265\tTotal Average Score: 0.43\tMean: 0.20\tMin: 0.19\tMax: 0.20\tDuration: 3.94\n",
      "Episode 270\tTotal Average Score: 0.44\tMean: 0.05\tMin: -0.01\tMax: 0.10\tDuration: 1.52\n",
      "Episode 275\tTotal Average Score: 0.45\tMean: 1.25\tMin: 1.19\tMax: 1.30\tDuration: 22.47\n",
      "Episode 280\tTotal Average Score: 0.46\tMean: 0.65\tMin: 0.59\tMax: 0.70\tDuration: 11.79\n",
      "Problem Solved after 283 epsisodes!! Total Average score: 0.51\n"
     ]
    }
   ],
   "source": [
    "import random\n",
    "import time\n",
    "import numpy as np\n",
    "\n",
    "from collections import deque\n",
    "\n",
    "def ddpg(n_episodes=2000, max_t=2000, print_every=5, save_every=50, learn_every=5, num_learn=10, goal_score=0.5):\n",
    "    total_scores_deque = deque(maxlen=100)\n",
    "    total_scores = []\n",
    "    \n",
    "    for i_episode in range(1, n_episodes+1):\n",
    "        \n",
    "        # Reset Env and Agent\n",
    "        env_info = env.reset(train_mode=True)[brain_name]  # reset the environment    \n",
    "        states = env_info.vector_observations                    # get the current state (for each agent)\n",
    "        scores = np.zeros(num_agents)                            # initialize the score (for each agent)\n",
    "        agent.reset()\n",
    "        \n",
    "        start_time = time.time()\n",
    "        \n",
    "        for t in range(max_t):\n",
    "            actions = agent.act(states)\n",
    "            \n",
    "            env_info = env.step(actions)[brain_name]            # send all actions to the environment\n",
    "            next_states = env_info.vector_observations          # get next state (for each agent)\n",
    "            rewards = env_info.rewards                          # get reward (for each agent)\n",
    "            \n",
    "            dones = env_info.local_done                         # see if episode finished\n",
    "            \n",
    "            agent.step(states, actions, rewards, next_states, dones, t) # send actions to the agent\n",
    "            \n",
    "            scores += env_info.rewards                           # update the score (for each agent)\n",
    "            states = next_states                                 # roll over states to next time step\n",
    "            \n",
    "            if np.any(dones):                                   # exit loop if episode finished\n",
    "                break\n",
    "    \n",
    "        mean_score = np.mean(scores)\n",
    "        min_score = np.min(scores)\n",
    "        max_score = np.max(scores)\n",
    "        \n",
    "        # Take max of all agents' scores\n",
    "        total_scores_deque.append(max_score)\n",
    "        total_scores.append(max_score)\n",
    "        total_average_score = np.mean(total_scores_deque)\n",
    "        duration = time.time() - start_time\n",
    "        \n",
    "\n",
    "        if i_episode % print_every == 0:\n",
    "            print('\\rEpisode {}\\tTotal Average Score: {:.2f}\\tMean: {:.2f}\\tMin: {:.2f}\\tMax: {:.2f}\\tDuration: {:.2f}'.format(i_episode, total_average_score, mean_score, min_score, max_score, duration))\n",
    "\n",
    "        if i_episode % save_every == 0:\n",
    "            torch.save(agent.actor_local.state_dict(), 'checkpoint_actor.pth')\n",
    "            torch.save(agent.critic_local.state_dict(), 'checkpoint_critic.pth')\n",
    "        \n",
    "        if total_average_score >= goal_score and i_episode >= 100:\n",
    "            print('Problem Solved after {} epsisodes!! Total Average score: {:.2f}'.format(i_episode, total_average_score))\n",
    "            torch.save(agent.actor_local.state_dict(), 'checkpoint_actor.pth')\n",
    "            torch.save(agent.critic_local.state_dict(), 'checkpoint_critic.pth')\n",
    "            break\n",
    "    \n",
    "    return total_scores\n",
    "\n",
    "scores = ddpg()"
   ]
  },
  {
   "cell_type": "code",
   "execution_count": 8,
   "metadata": {},
   "outputs": [
    {
     "data": {
      "image/png": "[encoded data removed]",
      "text/plain": [
       "<matplotlib.figure.Figure at 0x7fe95180f780>"
      ]
     },
     "metadata": {
      "needs_background": "light"
     },
     "output_type": "display_data"
    }
   ],
   "source": [
    "fig = plt.figure()\n",
    "ax = fig.add_subplot(111)\n",
    "plt.plot(np.arange(1, len(scores)+1), scores)\n",
    "plt.ylabel('Score')\n",
    "plt.xlabel('Episode #')\n",
    "plt.show()"
   ]
  }
 ],
 "metadata": {
  "kernelspec": {
   "display_name": "Python 3",
   "language": "python",
   "name": "python3"
  },
  "language_info": {
   "codemirror_mode": {
    "name": "ipython",
    "version": 3
   },
   "file_extension": ".py",
   "mimetype": "text/x-python",
   "name": "python",
   "nbconvert_exporter": "python",
   "pygments_lexer": "ipython3",
   "version": "3.6.3"
  }
 },
 "nbformat": 4,
 "nbformat_minor": 2
}
